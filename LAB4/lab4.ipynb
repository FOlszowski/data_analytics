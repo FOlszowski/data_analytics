{
 "cells": [
  {
   "cell_type": "markdown",
   "metadata": {},
   "source": [
    "# Lab 4 - Linear models\n",
    "\n",
    "We focus on models in the form \n",
    "\n",
    "$$ y ~ \\mathrm{Normal}(\\alpha+X\\beta,\\sigma) $$\n",
    "\n",
    "or in generalized form (generalized linear models)\n",
    "\n",
    "$$ f(y) ~ \\mathrm{Normal}(\\alpha+X\\beta,\\sigma) $$\n",
    "\n",
    "where $f(y)$ is a link function, for example - logit.\n"
   ]
  },
  {
   "cell_type": "code",
   "execution_count": 1,
   "metadata": {},
   "outputs": [
    {
     "ename": "KeyboardInterrupt",
     "evalue": "",
     "output_type": "error",
     "traceback": [
      "\u001b[1;31m---------------------------------------------------------------------------\u001b[0m",
      "\u001b[1;31mKeyboardInterrupt\u001b[0m                         Traceback (most recent call last)",
      "\u001b[1;32mc:\\Users\\solar\\Desktop\\Studia\\data_analytics\\LAB4\\lab4.ipynb Cell 2'\u001b[0m in \u001b[0;36m<cell line: 1>\u001b[1;34m()\u001b[0m\n\u001b[1;32m----> <a href='vscode-notebook-cell:/c%3A/Users/solar/Desktop/Studia/data_analytics/LAB4/lab4.ipynb#ch0000001?line=0'>1</a>\u001b[0m \u001b[39mfrom\u001b[39;00m \u001b[39mcmdstanpy\u001b[39;00m \u001b[39mimport\u001b[39;00m CmdStanModel\n\u001b[0;32m      <a href='vscode-notebook-cell:/c%3A/Users/solar/Desktop/Studia/data_analytics/LAB4/lab4.ipynb#ch0000001?line=1'>2</a>\u001b[0m \u001b[39mimport\u001b[39;00m \u001b[39marviz\u001b[39;00m \u001b[39mas\u001b[39;00m \u001b[39maz\u001b[39;00m\n\u001b[0;32m      <a href='vscode-notebook-cell:/c%3A/Users/solar/Desktop/Studia/data_analytics/LAB4/lab4.ipynb#ch0000001?line=2'>3</a>\u001b[0m \u001b[39mimport\u001b[39;00m \u001b[39mnumpy\u001b[39;00m \u001b[39mas\u001b[39;00m \u001b[39mnp\u001b[39;00m\n",
      "File \u001b[1;32m~\\AppData\\Local\\Programs\\Python\\Python310\\lib\\site-packages\\cmdstanpy\\__init__.py:40\u001b[0m, in \u001b[0;36m<module>\u001b[1;34m\u001b[0m\n\u001b[0;32m     <a href='file:///c%3A/Users/solar/AppData/Local/Programs/Python/Python310/lib/site-packages/cmdstanpy/__init__.py?line=35'>36</a>\u001b[0m atexit\u001b[39m.\u001b[39mregister(_cleanup_tmpdir)\n\u001b[0;32m     <a href='file:///c%3A/Users/solar/AppData/Local/Programs/Python/Python310/lib/site-packages/cmdstanpy/__init__.py?line=38'>39</a>\u001b[0m \u001b[39mfrom\u001b[39;00m \u001b[39m.\u001b[39;00m\u001b[39m_version\u001b[39;00m \u001b[39mimport\u001b[39;00m __version__  \u001b[39m# noqa\u001b[39;00m\n\u001b[1;32m---> <a href='file:///c%3A/Users/solar/AppData/Local/Programs/Python/Python310/lib/site-packages/cmdstanpy/__init__.py?line=39'>40</a>\u001b[0m \u001b[39mfrom\u001b[39;00m \u001b[39m.\u001b[39;00m\u001b[39minstall_cmdstan\u001b[39;00m \u001b[39mimport\u001b[39;00m rebuild_cmdstan\n\u001b[0;32m     <a href='file:///c%3A/Users/solar/AppData/Local/Programs/Python/Python310/lib/site-packages/cmdstanpy/__init__.py?line=40'>41</a>\u001b[0m \u001b[39mfrom\u001b[39;00m \u001b[39m.\u001b[39;00m\u001b[39mmodel\u001b[39;00m \u001b[39mimport\u001b[39;00m CmdStanModel  \u001b[39m# noqa\u001b[39;00m\n\u001b[0;32m     <a href='file:///c%3A/Users/solar/AppData/Local/Programs/Python/Python310/lib/site-packages/cmdstanpy/__init__.py?line=41'>42</a>\u001b[0m \u001b[39mfrom\u001b[39;00m \u001b[39m.\u001b[39;00m\u001b[39mstanfit\u001b[39;00m \u001b[39mimport\u001b[39;00m (  \u001b[39m# noqa\u001b[39;00m\n\u001b[0;32m     <a href='file:///c%3A/Users/solar/AppData/Local/Programs/Python/Python310/lib/site-packages/cmdstanpy/__init__.py?line=42'>43</a>\u001b[0m     CmdStanGQ,\n\u001b[0;32m     <a href='file:///c%3A/Users/solar/AppData/Local/Programs/Python/Python310/lib/site-packages/cmdstanpy/__init__.py?line=43'>44</a>\u001b[0m     CmdStanMCMC,\n\u001b[1;32m   (...)\u001b[0m\n\u001b[0;32m     <a href='file:///c%3A/Users/solar/AppData/Local/Programs/Python/Python310/lib/site-packages/cmdstanpy/__init__.py?line=47'>48</a>\u001b[0m     from_csv,\n\u001b[0;32m     <a href='file:///c%3A/Users/solar/AppData/Local/Programs/Python/Python310/lib/site-packages/cmdstanpy/__init__.py?line=48'>49</a>\u001b[0m )\n",
      "File \u001b[1;32m~\\AppData\\Local\\Programs\\Python\\Python310\\lib\\site-packages\\cmdstanpy\\install_cmdstan.py:34\u001b[0m, in \u001b[0;36m<module>\u001b[1;34m\u001b[0m\n\u001b[0;32m     <a href='file:///c%3A/Users/solar/AppData/Local/Programs/Python/Python310/lib/site-packages/cmdstanpy/install_cmdstan.py?line=30'>31</a>\u001b[0m \u001b[39mfrom\u001b[39;00m \u001b[39mtqdm\u001b[39;00m\u001b[39m.\u001b[39;00m\u001b[39mauto\u001b[39;00m \u001b[39mimport\u001b[39;00m tqdm\n\u001b[0;32m     <a href='file:///c%3A/Users/solar/AppData/Local/Programs/Python/Python310/lib/site-packages/cmdstanpy/install_cmdstan.py?line=32'>33</a>\u001b[0m \u001b[39mfrom\u001b[39;00m \u001b[39mcmdstanpy\u001b[39;00m \u001b[39mimport\u001b[39;00m _DOT_CMDSTAN\n\u001b[1;32m---> <a href='file:///c%3A/Users/solar/AppData/Local/Programs/Python/Python310/lib/site-packages/cmdstanpy/install_cmdstan.py?line=33'>34</a>\u001b[0m \u001b[39mfrom\u001b[39;00m \u001b[39mcmdstanpy\u001b[39;00m\u001b[39m.\u001b[39;00m\u001b[39mutils\u001b[39;00m \u001b[39mimport\u001b[39;00m (\n\u001b[0;32m     <a href='file:///c%3A/Users/solar/AppData/Local/Programs/Python/Python310/lib/site-packages/cmdstanpy/install_cmdstan.py?line=34'>35</a>\u001b[0m     cmdstan_path,\n\u001b[0;32m     <a href='file:///c%3A/Users/solar/AppData/Local/Programs/Python/Python310/lib/site-packages/cmdstanpy/install_cmdstan.py?line=35'>36</a>\u001b[0m     do_command,\n\u001b[0;32m     <a href='file:///c%3A/Users/solar/AppData/Local/Programs/Python/Python310/lib/site-packages/cmdstanpy/install_cmdstan.py?line=36'>37</a>\u001b[0m     pushd,\n\u001b[0;32m     <a href='file:///c%3A/Users/solar/AppData/Local/Programs/Python/Python310/lib/site-packages/cmdstanpy/install_cmdstan.py?line=37'>38</a>\u001b[0m     validate_dir,\n\u001b[0;32m     <a href='file:///c%3A/Users/solar/AppData/Local/Programs/Python/Python310/lib/site-packages/cmdstanpy/install_cmdstan.py?line=38'>39</a>\u001b[0m     wrap_url_progress_hook,\n\u001b[0;32m     <a href='file:///c%3A/Users/solar/AppData/Local/Programs/Python/Python310/lib/site-packages/cmdstanpy/install_cmdstan.py?line=39'>40</a>\u001b[0m )\n\u001b[0;32m     <a href='file:///c%3A/Users/solar/AppData/Local/Programs/Python/Python310/lib/site-packages/cmdstanpy/install_cmdstan.py?line=41'>42</a>\u001b[0m \u001b[39mfrom\u001b[39;00m \u001b[39m.\u001b[39;00m \u001b[39mimport\u001b[39;00m progress \u001b[39mas\u001b[39;00m progbar\n\u001b[0;32m     <a href='file:///c%3A/Users/solar/AppData/Local/Programs/Python/Python310/lib/site-packages/cmdstanpy/install_cmdstan.py?line=43'>44</a>\u001b[0m MAKE \u001b[39m=\u001b[39m os\u001b[39m.\u001b[39mgetenv(\n\u001b[0;32m     <a href='file:///c%3A/Users/solar/AppData/Local/Programs/Python/Python310/lib/site-packages/cmdstanpy/install_cmdstan.py?line=44'>45</a>\u001b[0m     \u001b[39m'\u001b[39m\u001b[39mMAKE\u001b[39m\u001b[39m'\u001b[39m, \u001b[39m'\u001b[39m\u001b[39mmake\u001b[39m\u001b[39m'\u001b[39m \u001b[39mif\u001b[39;00m platform\u001b[39m.\u001b[39msystem() \u001b[39m!=\u001b[39m \u001b[39m'\u001b[39m\u001b[39mWindows\u001b[39m\u001b[39m'\u001b[39m \u001b[39melse\u001b[39;00m \u001b[39m'\u001b[39m\u001b[39mmingw32-make\u001b[39m\u001b[39m'\u001b[39m\n\u001b[0;32m     <a href='file:///c%3A/Users/solar/AppData/Local/Programs/Python/Python310/lib/site-packages/cmdstanpy/install_cmdstan.py?line=45'>46</a>\u001b[0m )\n",
      "File \u001b[1;32m~\\AppData\\Local\\Programs\\Python\\Python310\\lib\\site-packages\\cmdstanpy\\utils.py:33\u001b[0m, in \u001b[0;36m<module>\u001b[1;34m\u001b[0m\n\u001b[0;32m     <a href='file:///c%3A/Users/solar/AppData/Local/Programs/Python/Python310/lib/site-packages/cmdstanpy/utils.py?line=17'>18</a>\u001b[0m \u001b[39mfrom\u001b[39;00m \u001b[39menum\u001b[39;00m \u001b[39mimport\u001b[39;00m Enum, auto\n\u001b[0;32m     <a href='file:///c%3A/Users/solar/AppData/Local/Programs/Python/Python310/lib/site-packages/cmdstanpy/utils.py?line=18'>19</a>\u001b[0m \u001b[39mfrom\u001b[39;00m \u001b[39mtyping\u001b[39;00m \u001b[39mimport\u001b[39;00m (\n\u001b[0;32m     <a href='file:///c%3A/Users/solar/AppData/Local/Programs/Python/Python310/lib/site-packages/cmdstanpy/utils.py?line=19'>20</a>\u001b[0m     Any,\n\u001b[0;32m     <a href='file:///c%3A/Users/solar/AppData/Local/Programs/Python/Python310/lib/site-packages/cmdstanpy/utils.py?line=20'>21</a>\u001b[0m     Callable,\n\u001b[1;32m   (...)\u001b[0m\n\u001b[0;32m     <a href='file:///c%3A/Users/solar/AppData/Local/Programs/Python/Python310/lib/site-packages/cmdstanpy/utils.py?line=29'>30</a>\u001b[0m     Union,\n\u001b[0;32m     <a href='file:///c%3A/Users/solar/AppData/Local/Programs/Python/Python310/lib/site-packages/cmdstanpy/utils.py?line=30'>31</a>\u001b[0m )\n\u001b[1;32m---> <a href='file:///c%3A/Users/solar/AppData/Local/Programs/Python/Python310/lib/site-packages/cmdstanpy/utils.py?line=32'>33</a>\u001b[0m \u001b[39mimport\u001b[39;00m \u001b[39mnumpy\u001b[39;00m \u001b[39mas\u001b[39;00m \u001b[39mnp\u001b[39;00m\n\u001b[0;32m     <a href='file:///c%3A/Users/solar/AppData/Local/Programs/Python/Python310/lib/site-packages/cmdstanpy/utils.py?line=33'>34</a>\u001b[0m \u001b[39mimport\u001b[39;00m \u001b[39mpandas\u001b[39;00m \u001b[39mas\u001b[39;00m \u001b[39mpd\u001b[39;00m\n\u001b[0;32m     <a href='file:///c%3A/Users/solar/AppData/Local/Programs/Python/Python310/lib/site-packages/cmdstanpy/utils.py?line=34'>35</a>\u001b[0m \u001b[39mimport\u001b[39;00m \u001b[39mujson\u001b[39;00m\n",
      "File \u001b[1;32m~\\AppData\\Local\\Programs\\Python\\Python310\\lib\\site-packages\\numpy\\__init__.py:155\u001b[0m, in \u001b[0;36m<module>\u001b[1;34m\u001b[0m\n\u001b[0;32m    <a href='file:///c%3A/Users/solar/AppData/Local/Programs/Python/Python310/lib/site-packages/numpy/__init__.py?line=152'>153</a>\u001b[0m \u001b[39mfrom\u001b[39;00m \u001b[39m.\u001b[39;00m \u001b[39mimport\u001b[39;00m fft\n\u001b[0;32m    <a href='file:///c%3A/Users/solar/AppData/Local/Programs/Python/Python310/lib/site-packages/numpy/__init__.py?line=153'>154</a>\u001b[0m \u001b[39mfrom\u001b[39;00m \u001b[39m.\u001b[39;00m \u001b[39mimport\u001b[39;00m polynomial\n\u001b[1;32m--> <a href='file:///c%3A/Users/solar/AppData/Local/Programs/Python/Python310/lib/site-packages/numpy/__init__.py?line=154'>155</a>\u001b[0m \u001b[39mfrom\u001b[39;00m \u001b[39m.\u001b[39;00m \u001b[39mimport\u001b[39;00m random\n\u001b[0;32m    <a href='file:///c%3A/Users/solar/AppData/Local/Programs/Python/Python310/lib/site-packages/numpy/__init__.py?line=155'>156</a>\u001b[0m \u001b[39mfrom\u001b[39;00m \u001b[39m.\u001b[39;00m \u001b[39mimport\u001b[39;00m ctypeslib\n\u001b[0;32m    <a href='file:///c%3A/Users/solar/AppData/Local/Programs/Python/Python310/lib/site-packages/numpy/__init__.py?line=156'>157</a>\u001b[0m \u001b[39mfrom\u001b[39;00m \u001b[39m.\u001b[39;00m \u001b[39mimport\u001b[39;00m ma\n",
      "File \u001b[1;32m~\\AppData\\Local\\Programs\\Python\\Python310\\lib\\site-packages\\numpy\\random\\__init__.py:180\u001b[0m, in \u001b[0;36m<module>\u001b[1;34m\u001b[0m\n\u001b[0;32m    <a href='file:///c%3A/Users/solar/AppData/Local/Programs/Python/Python310/lib/site-packages/numpy/random/__init__.py?line=125'>126</a>\u001b[0m __all__ \u001b[39m=\u001b[39m [\n\u001b[0;32m    <a href='file:///c%3A/Users/solar/AppData/Local/Programs/Python/Python310/lib/site-packages/numpy/random/__init__.py?line=126'>127</a>\u001b[0m     \u001b[39m'\u001b[39m\u001b[39mbeta\u001b[39m\u001b[39m'\u001b[39m,\n\u001b[0;32m    <a href='file:///c%3A/Users/solar/AppData/Local/Programs/Python/Python310/lib/site-packages/numpy/random/__init__.py?line=127'>128</a>\u001b[0m     \u001b[39m'\u001b[39m\u001b[39mbinomial\u001b[39m\u001b[39m'\u001b[39m,\n\u001b[1;32m   (...)\u001b[0m\n\u001b[0;32m    <a href='file:///c%3A/Users/solar/AppData/Local/Programs/Python/Python310/lib/site-packages/numpy/random/__init__.py?line=175'>176</a>\u001b[0m     \u001b[39m'\u001b[39m\u001b[39mzipf\u001b[39m\u001b[39m'\u001b[39m,\n\u001b[0;32m    <a href='file:///c%3A/Users/solar/AppData/Local/Programs/Python/Python310/lib/site-packages/numpy/random/__init__.py?line=176'>177</a>\u001b[0m ]\n\u001b[0;32m    <a href='file:///c%3A/Users/solar/AppData/Local/Programs/Python/Python310/lib/site-packages/numpy/random/__init__.py?line=178'>179</a>\u001b[0m \u001b[39m# add these for module-freeze analysis (like PyInstaller)\u001b[39;00m\n\u001b[1;32m--> <a href='file:///c%3A/Users/solar/AppData/Local/Programs/Python/Python310/lib/site-packages/numpy/random/__init__.py?line=179'>180</a>\u001b[0m \u001b[39mfrom\u001b[39;00m \u001b[39m.\u001b[39;00m \u001b[39mimport\u001b[39;00m _pickle\n\u001b[0;32m    <a href='file:///c%3A/Users/solar/AppData/Local/Programs/Python/Python310/lib/site-packages/numpy/random/__init__.py?line=180'>181</a>\u001b[0m \u001b[39mfrom\u001b[39;00m \u001b[39m.\u001b[39;00m \u001b[39mimport\u001b[39;00m _common\n\u001b[0;32m    <a href='file:///c%3A/Users/solar/AppData/Local/Programs/Python/Python310/lib/site-packages/numpy/random/__init__.py?line=181'>182</a>\u001b[0m \u001b[39mfrom\u001b[39;00m \u001b[39m.\u001b[39;00m \u001b[39mimport\u001b[39;00m _bounded_integers\n",
      "File \u001b[1;32m~\\AppData\\Local\\Programs\\Python\\Python310\\lib\\site-packages\\numpy\\random\\_pickle.py:4\u001b[0m, in \u001b[0;36m<module>\u001b[1;34m\u001b[0m\n\u001b[0;32m      <a href='file:///c%3A/Users/solar/AppData/Local/Programs/Python/Python310/lib/site-packages/numpy/random/_pickle.py?line=1'>2</a>\u001b[0m \u001b[39mfrom\u001b[39;00m \u001b[39m.\u001b[39;00m\u001b[39m_philox\u001b[39;00m \u001b[39mimport\u001b[39;00m Philox\n\u001b[0;32m      <a href='file:///c%3A/Users/solar/AppData/Local/Programs/Python/Python310/lib/site-packages/numpy/random/_pickle.py?line=2'>3</a>\u001b[0m \u001b[39mfrom\u001b[39;00m \u001b[39m.\u001b[39;00m\u001b[39m_pcg64\u001b[39;00m \u001b[39mimport\u001b[39;00m PCG64, PCG64DXSM\n\u001b[1;32m----> <a href='file:///c%3A/Users/solar/AppData/Local/Programs/Python/Python310/lib/site-packages/numpy/random/_pickle.py?line=3'>4</a>\u001b[0m \u001b[39mfrom\u001b[39;00m \u001b[39m.\u001b[39;00m\u001b[39m_sfc64\u001b[39;00m \u001b[39mimport\u001b[39;00m SFC64\n\u001b[0;32m      <a href='file:///c%3A/Users/solar/AppData/Local/Programs/Python/Python310/lib/site-packages/numpy/random/_pickle.py?line=5'>6</a>\u001b[0m \u001b[39mfrom\u001b[39;00m \u001b[39m.\u001b[39;00m\u001b[39m_generator\u001b[39;00m \u001b[39mimport\u001b[39;00m Generator\n\u001b[0;32m      <a href='file:///c%3A/Users/solar/AppData/Local/Programs/Python/Python310/lib/site-packages/numpy/random/_pickle.py?line=6'>7</a>\u001b[0m \u001b[39mfrom\u001b[39;00m \u001b[39m.\u001b[39;00m\u001b[39m_mt19937\u001b[39;00m \u001b[39mimport\u001b[39;00m MT19937\n",
      "File \u001b[1;32m<frozen importlib._bootstrap>:404\u001b[0m, in \u001b[0;36mparent\u001b[1;34m(self)\u001b[0m\n",
      "\u001b[1;31mKeyboardInterrupt\u001b[0m: "
     ]
    }
   ],
   "source": [
    "from cmdstanpy import CmdStanModel\n",
    "import arviz as az\n",
    "import numpy as np\n",
    "import scipy.stats as stats\n",
    "import matplotlib.pyplot as plt\n",
    "import pandas as pd"
   ]
  },
  {
   "cell_type": "markdown",
   "metadata": {},
   "source": [
    "## Excercise 1 - modelling height of !Kung people"
   ]
  },
  {
   "cell_type": "markdown",
   "metadata": {},
   "source": [
    "### Normal model - no predictors\n",
    "We will try to fit $\\mathrm{Normal}(\\mu,\\sigma)$ distribution to height data. Special case of linear model with $\\beta=0$."
   ]
  },
  {
   "cell_type": "code",
   "execution_count": null,
   "metadata": {},
   "outputs": [],
   "source": [
    "_BASE_URL = \"https://raw.githubusercontent.com/rmcelreath/rethinking/Experimental/data\"\n",
    "HOWELL_DATASET_PATH = f\"{_BASE_URL}/Howell1.csv\"\n",
    "d = pd.read_csv(HOWELL_DATASET_PATH, sep=\";\", header=0)\n",
    "d = d[d.age >= 18]  # just adults\n",
    "d.head()"
   ]
  },
  {
   "cell_type": "code",
   "execution_count": null,
   "metadata": {},
   "outputs": [],
   "source": [
    "model_ppc = CmdStanModel(stan_file=\"Data/height_1_ppc.stan\")\n",
    "\n",
    "R = 1000\n",
    "sim = model_ppc.sample(\n",
    "    iter_sampling=R, iter_warmup=0, chains=1, fixed_param=True, seed=29042020, refresh=R\n",
    ")"
   ]
  },
  {
   "cell_type": "markdown",
   "metadata": {},
   "source": [
    "#### Task 1. Prior predictive checks\n",
    "\n",
    "1. Plot histograms of mu, sigma and simulated height.\n",
    "2. Plot a joint distribution of mu and sigma.\n",
    "3. Check if samples are consistent with priors\n",
    "4. Check if observed data is possible to obtain using priors."
   ]
  },
  {
   "cell_type": "code",
   "execution_count": null,
   "metadata": {},
   "outputs": [],
   "source": [
    "model_1_fit = CmdStanModel(stan_file=\"Data/height_1_fit.stan\")"
   ]
  },
  {
   "cell_type": "code",
   "execution_count": null,
   "metadata": {},
   "outputs": [],
   "source": [
    "fit = model_1_fit.sample(data=dict(N=len(d), heights=d.height.values), seed=28052020)"
   ]
  },
  {
   "cell_type": "code",
   "execution_count": null,
   "metadata": {},
   "outputs": [],
   "source": [
    "fig, axs = plt.subplots(3, 1, sharey=True, tight_layout=True)\n",
    "fig.set_size_inches(25, 12)\n",
    "axs[0].hist(fit.stan_variable(\"mu\"))\n",
    "axs[0].set_title(\"Mu\")\n",
    "axs[1].hist(fit.stan_variable(\"sigma\"))\n",
    "axs[1].set_title(\"Sigma\")\n",
    "axs[2].hist(fit.stan_variable(\"height\"))\n",
    "axs[2].set_title(\"Simulated height\")\n",
    "plt.show()"
   ]
  },
  {
   "cell_type": "code",
   "execution_count": null,
   "metadata": {},
   "outputs": [],
   "source": [
    "az.plot_pair(fit, var_names=[\"mu\", \"sigma\"], figsize=(20, 6))"
   ]
  },
  {
   "cell_type": "markdown",
   "metadata": {},
   "source": [
    "#### Task 2. Model fit and evaluation\n",
    "\n",
    "1. Plot a joint distribution of fitted mu and sigma.\n",
    "2. Plot histograms of data and simulated heights and evaluate the quality of model.\n",
    "\n"
   ]
  },
  {
   "cell_type": "code",
   "execution_count": null,
   "metadata": {},
   "outputs": [],
   "source": [
    "fig, axs = plt.subplots(3, 1, sharey=True, tight_layout=True)\n",
    "fig.set_size_inches(25, 12)\n",
    "axs[0].hist(fit.stan_variable(\"mu\"))\n",
    "axs[0].set_title(\"Mu\")\n",
    "axs[1].hist(fit.stan_variable(\"sigma\"))\n",
    "axs[1].set_title(\"Sigma\")\n",
    "axs[2].hist(fit.stan_variable(\"height\"))\n",
    "axs[2].set_title(\"Simulated height\")\n",
    "plt.show()\n",
    "az.plot_pair(fit, var_names=[\"mu\", \"sigma\"], figsize=(20, 6))"
   ]
  },
  {
   "cell_type": "markdown",
   "metadata": {},
   "source": [
    "### Adding predictor to the model - weight\n",
    "\n",
    "Create column ```c_weight``` in the dataframe containing weights substrated by their mean.\n"
   ]
  },
  {
   "cell_type": "code",
   "execution_count": null,
   "metadata": {},
   "outputs": [],
   "source": [
    "model_ppc = CmdStanModel(stan_file=\"Data/height_2a_ppc.stan\")\n",
    "R = 1000\n",
    "weights = list(d[\"weight\"])\n",
    "mean = sum(weights) / len(weights)\n",
    "c_weight = [elem - mean for elem in weights]\n",
    "d[\"c_weight\"] = c_weight\n",
    "\n",
    "data_sim = {\"N\": 50, \"weight\": np.linspace(d.c_weight.min(), d.c_weight.max())}\n",
    "sim = model_ppc.sample(\n",
    "    data=data_sim,\n",
    "    iter_sampling=R,\n",
    "    iter_warmup=0,\n",
    "    chains=1,\n",
    "    refresh=R,\n",
    "    fixed_param=True,\n",
    "    seed=29042020,\n",
    ")"
   ]
  },
  {
   "cell_type": "markdown",
   "metadata": {},
   "source": [
    "#### Task 4. Prior predictive checks\n",
    "1. Plot lines for each sampled slope beta and intercept alpha, verify if possible predicted heights are consistent with minimum (0) and maximum (check Wikipedia) heights observed in nature."
   ]
  },
  {
   "cell_type": "code",
   "execution_count": null,
   "metadata": {},
   "outputs": [],
   "source": [
    "fig, axs = plt.subplots(3, 1, tight_layout=True)\n",
    "fig.set_size_inches(25, 20)\n",
    "axs[0].plot(sim.stan_variable(\"alpha\"))\n",
    "axs[0].set_title(\"Alpha\")\n",
    "axs[1].plot(sim.stan_variable(\"beta\"))\n",
    "axs[1].set_title(\"Beta\")\n",
    "axs[2].plot(sim.stan_variable(\"height\"))\n",
    "axs[2].set_title(\"Heights\")\n",
    "height = sim.stan_variable(\"height\")\n",
    "print(\n",
    "    \"Minimum height: {0} \\nMaximum height:  {1}\".format(np.min(height), np.max(height))\n",
    ")"
   ]
  },
  {
   "cell_type": "markdown",
   "metadata": {},
   "source": [
    "### Modifying prior\n",
    "\n",
    "If prior for beta admits negative values, then it makes no sense. Lets change prior to lognormal distribution.\n"
   ]
  },
  {
   "cell_type": "code",
   "execution_count": null,
   "metadata": {},
   "outputs": [],
   "source": [
    "model_ppc = CmdStanModel(stan_file=\"Data/height_2b_ppc.stan\")"
   ]
  },
  {
   "cell_type": "code",
   "execution_count": null,
   "metadata": {},
   "outputs": [],
   "source": [
    "sim = model_ppc.sample(\n",
    "    data=data_sim,\n",
    "    iter_sampling=R,\n",
    "    iter_warmup=0,\n",
    "    chains=1,\n",
    "    refresh=R,\n",
    "    fixed_param=True,\n",
    "    seed=29042020,\n",
    ")"
   ]
  },
  {
   "cell_type": "markdown",
   "metadata": {},
   "source": [
    "#### Task 5. Prior predictive checks\n",
    "1. Plot lines for each sampled slope beta and intercept alpha, verify if possible predicted heights are consistent with minimum (0) and maximum (check Wikipedia) heights observed in nature.\n",
    "2. For each simulated weight plot maximum, minimum, and 5, 25, 50, 75, 95 quantiles of simulated weight (all in the same plot). Compare with observed data. Is observed data possible within the prior model?"
   ]
  },
  {
   "cell_type": "markdown",
   "metadata": {},
   "source": [
    "### Fitting data\n"
   ]
  },
  {
   "cell_type": "code",
   "execution_count": null,
   "metadata": {},
   "outputs": [],
   "source": [
    "model_2_fit = CmdStanModel(stan_file=\"Data/height_2_fit.stan\")"
   ]
  },
  {
   "cell_type": "markdown",
   "metadata": {},
   "source": [
    "#### Task 6. Preparing data for fit\n",
    "1. Create ```data_fit``` dictionary containing data from  ```N``` first rows of dataframe"
   ]
  },
  {
   "cell_type": "code",
   "execution_count": null,
   "metadata": {},
   "outputs": [],
   "source": [
    "def sample_by_n(N: int):\n",
    "    data_fit = {\"N\": N}\n",
    "    data_fit[\"weight\"] = list(d[\"weight\"][:N])\n",
    "    data_fit[\"heights\"] = list(d[\"height\"][:N])\n",
    "\n",
    "    fit = model_2_fit.sample(data=data_fit, seed=28052020)\n",
    "    return fit"
   ]
  },
  {
   "cell_type": "markdown",
   "metadata": {},
   "source": [
    "#### Task 7. Evaluating model\n",
    "\n",
    "1. Plot lines for each sampled slope beta and intercept alpha. Verify how uncertainity changes with increasing of sample (N)\n",
    "2. For each simulated weight plot maximum, minimum, and 5, 25, 50, 75, 95 quantiles of simulated weight (all in the same plot). Compare with observed data (N points). Is observed data possible within the posterior model? What changes when N increases.\n"
   ]
  },
  {
   "cell_type": "code",
   "execution_count": null,
   "metadata": {},
   "outputs": [],
   "source": [
    "fit = sample_by_n(100)"
   ]
  },
  {
   "cell_type": "code",
   "execution_count": null,
   "metadata": {},
   "outputs": [],
   "source": [
    "summary = fit.summary()\n",
    "height = fit.stan_variable(\"height\")\n",
    "print(\n",
    "    \"Minimum height: {0} \\nMaximum height:  {1}\".format(np.min(height), np.max(height))\n",
    ")  \n",
    "minimum = []\n",
    "maximum = []\n",
    "quanitile_5 = []\n",
    "quanitile_25 = []\n",
    "quanitile_50 = []\n",
    "quanitile_75 = []\n",
    "quanitile_95 = []\n",
    "for i in range(len(height[0])):\n",
    "    minimum.append(np.min(height[:,i]))\n",
    "    maximum.append(np.max(height[:,i]))\n",
    "    quanitile_5.append(np.quantile(height[:,i],0.05))\n",
    "    quanitile_25.append(np.quantile(height[:,i],0.25))\n",
    "    quanitile_50.append(np.quantile(height[:,i],0.5))\n",
    "    quanitile_75.append(np.quantile(height[:,i],0.75))\n",
    "    quanitile_95.append(np.quantile(height[:,i],0.95))\n",
    "\n",
    "plt.rcParams[\"figure.figsize\"] = (20, 8)\n",
    "plt.plot(minimum, linewidth=2.5)\n",
    "plt.plot(maximum, linewidth=2.5)\n",
    "plt.plot(quanitile_5, linewidth=0.5)\n",
    "plt.plot(quanitile_25, linewidth=0.5)\n",
    "plt.plot(quanitile_50, linewidth=0.5)\n",
    "plt.plot(quanitile_75, linewidth=0.5)\n",
    "plt.plot(quanitile_95, linewidth=0.5)\n",
    "plt.legend(['min','max','5','25','50','75','95'])\n",
    "plt.title('Model evaluation')\n",
    "plt.show()"
   ]
  }
 ],
 "metadata": {
  "interpreter": {
   "hash": "dec76d489b07b665fd6e3623e5629f717b1b30c784fea4bb610fb31850689f2f"
  },
  "kernelspec": {
   "display_name": "Python 3 (ipykernel)",
   "language": "python",
   "name": "python3"
  },
  "language_info": {
   "codemirror_mode": {
    "name": "ipython",
    "version": 3
   },
   "file_extension": ".py",
   "mimetype": "text/x-python",
   "name": "python",
   "nbconvert_exporter": "python",
   "pygments_lexer": "ipython3",
   "version": "3.10.2"
  }
 },
 "nbformat": 4,
 "nbformat_minor": 2
}
