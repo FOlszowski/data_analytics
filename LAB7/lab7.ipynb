{
 "cells": [
  {
   "cell_type": "code",
   "execution_count": 13,
   "metadata": {},
   "outputs": [
    {
     "name": "stdout",
     "output_type": "stream",
     "text": [
      "N is equal to 1400\n"
     ]
    }
   ],
   "source": [
    "from cmdstanpy import CmdStanModel\n",
    "import arviz as az\n",
    "import random\n",
    "import numpy as np\n",
    "\n",
    "F = len('Filip')\n",
    "L = len('Olszowski')\n",
    "\n",
    "N = (L+F)*100\n",
    "print(f'N is equal to {N}')"
   ]
  },
  {
   "cell_type": "markdown",
   "metadata": {},
   "source": [
    "<b>Exercise 1</b>\n",
    "\n",
    "Generating data"
   ]
  },
  {
   "cell_type": "code",
   "execution_count": 2,
   "metadata": {},
   "outputs": [
    {
     "name": "stderr",
     "output_type": "stream",
     "text": [
      "INFO:cmdstanpy:found newer exe file, not recompiling\n",
      "INFO:cmdstanpy:found newer exe file, not recompiling\n",
      "INFO:cmdstanpy:CmdStan start processing\n"
     ]
    },
    {
     "data": {
      "application/vnd.jupyter.widget-view+json": {
       "model_id": "89fde8616a424c93a1fa91c647a001c3",
       "version_major": 2,
       "version_minor": 0
      },
      "text/plain": [
       "chain 1 |          | 00:00 Status"
      ]
     },
     "metadata": {},
     "output_type": "display_data"
    },
    {
     "data": {
      "application/vnd.jupyter.widget-view+json": {
       "model_id": "6eb29d487e0247ceb5f3a6152a406fa2",
       "version_major": 2,
       "version_minor": 0
      },
      "text/plain": [
       "chain 2 |          | 00:00 Status"
      ]
     },
     "metadata": {},
     "output_type": "display_data"
    },
    {
     "data": {
      "application/vnd.jupyter.widget-view+json": {
       "model_id": "4583992220b3419e9678253fb8d453c2",
       "version_major": 2,
       "version_minor": 0
      },
      "text/plain": [
       "chain 3 |          | 00:00 Status"
      ]
     },
     "metadata": {},
     "output_type": "display_data"
    },
    {
     "data": {
      "application/vnd.jupyter.widget-view+json": {
       "model_id": "b944ac4ffcea4fe885a73747fc21f812",
       "version_major": 2,
       "version_minor": 0
      },
      "text/plain": [
       "chain 4 |          | 00:00 Status"
      ]
     },
     "metadata": {},
     "output_type": "display_data"
    },
    {
     "name": "stdout",
     "output_type": "stream",
     "text": [
      "                                                                                                                                                                                                                                                                                                                                "
     ]
    },
    {
     "name": "stderr",
     "output_type": "stream",
     "text": [
      "INFO:cmdstanpy:CmdStan done processing.\n"
     ]
    },
    {
     "name": "stdout",
     "output_type": "stream",
     "text": [
      "\n"
     ]
    },
    {
     "name": "stderr",
     "output_type": "stream",
     "text": [
      "INFO:cmdstanpy:CmdStan start processing\n"
     ]
    },
    {
     "data": {
      "application/vnd.jupyter.widget-view+json": {
       "model_id": "47965f9144244bc5a75cde079f487e8e",
       "version_major": 2,
       "version_minor": 0
      },
      "text/plain": [
       "chain 1 |          | 00:00 Status"
      ]
     },
     "metadata": {},
     "output_type": "display_data"
    },
    {
     "data": {
      "application/vnd.jupyter.widget-view+json": {
       "model_id": "7e433de18a7049f6800289d50672e548",
       "version_major": 2,
       "version_minor": 0
      },
      "text/plain": [
       "chain 2 |          | 00:00 Status"
      ]
     },
     "metadata": {},
     "output_type": "display_data"
    },
    {
     "data": {
      "application/vnd.jupyter.widget-view+json": {
       "model_id": "bf1ae9c6166d409ba895eee073aab4eb",
       "version_major": 2,
       "version_minor": 0
      },
      "text/plain": [
       "chain 3 |          | 00:00 Status"
      ]
     },
     "metadata": {},
     "output_type": "display_data"
    },
    {
     "data": {
      "application/vnd.jupyter.widget-view+json": {
       "model_id": "e5aead1d74ee49ad9b8f943f5b9a2108",
       "version_major": 2,
       "version_minor": 0
      },
      "text/plain": [
       "chain 4 |          | 00:00 Status"
      ]
     },
     "metadata": {},
     "output_type": "display_data"
    },
    {
     "name": "stdout",
     "output_type": "stream",
     "text": [
      "                                                                                                                                                                                                                                                                                                                                "
     ]
    },
    {
     "name": "stderr",
     "output_type": "stream",
     "text": [
      "INFO:cmdstanpy:CmdStan done processing.\n"
     ]
    },
    {
     "name": "stdout",
     "output_type": "stream",
     "text": [
      "\n"
     ]
    }
   ],
   "source": [
    "model_1 = CmdStanModel(stan_file=\"Data\\code_1.stan\")\n",
    "model_2 = CmdStanModel(stan_file=\"Data\\code_2.stan\")\n",
    "\n",
    "data = {'N':N}\n",
    "samples_1 = model_1.sample(data)\n",
    "samples_2 = model_2.sample(data)\n",
    "\n",
    "y_1 = samples_1.stan_variable(\"y\")\n",
    "y_2 = samples_2.stan_variable(\"y\")"
   ]
  },
  {
   "cell_type": "markdown",
   "metadata": {},
   "source": [
    "<b>Excercise 2</b>"
   ]
  },
  {
   "cell_type": "code",
   "execution_count": 3,
   "metadata": {},
   "outputs": [
    {
     "name": "stderr",
     "output_type": "stream",
     "text": [
      "INFO:cmdstanpy:found newer exe file, not recompiling\n",
      "INFO:cmdstanpy:found newer exe file, not recompiling\n",
      "INFO:cmdstanpy:CmdStan start processing\n"
     ]
    },
    {
     "data": {
      "application/vnd.jupyter.widget-view+json": {
       "model_id": "c9ee4fe693214ea18da7c8ddb4e9bb2d",
       "version_major": 2,
       "version_minor": 0
      },
      "text/plain": [
       "chain 1 |          | 00:00 Status"
      ]
     },
     "metadata": {},
     "output_type": "display_data"
    },
    {
     "data": {
      "application/vnd.jupyter.widget-view+json": {
       "model_id": "70270a85e55f4e79b67a42b89693ef2a",
       "version_major": 2,
       "version_minor": 0
      },
      "text/plain": [
       "chain 2 |          | 00:00 Status"
      ]
     },
     "metadata": {},
     "output_type": "display_data"
    },
    {
     "data": {
      "application/vnd.jupyter.widget-view+json": {
       "model_id": "a22186459b154c44a4392b146364f0bd",
       "version_major": 2,
       "version_minor": 0
      },
      "text/plain": [
       "chain 3 |          | 00:00 Status"
      ]
     },
     "metadata": {},
     "output_type": "display_data"
    },
    {
     "data": {
      "application/vnd.jupyter.widget-view+json": {
       "model_id": "6307db63643a43d0837d26dbf2110ecf",
       "version_major": 2,
       "version_minor": 0
      },
      "text/plain": [
       "chain 4 |          | 00:00 Status"
      ]
     },
     "metadata": {},
     "output_type": "display_data"
    },
    {
     "name": "stdout",
     "output_type": "stream",
     "text": [
      "                                                                                                                                                                                                                                                                                                                                "
     ]
    },
    {
     "name": "stderr",
     "output_type": "stream",
     "text": [
      "INFO:cmdstanpy:CmdStan done processing.\n"
     ]
    },
    {
     "name": "stdout",
     "output_type": "stream",
     "text": [
      "\n"
     ]
    },
    {
     "name": "stderr",
     "output_type": "stream",
     "text": [
      "INFO:cmdstanpy:CmdStan start processing\n"
     ]
    },
    {
     "data": {
      "application/vnd.jupyter.widget-view+json": {
       "model_id": "3552a8936a2e4680a27e83ff5d089a23",
       "version_major": 2,
       "version_minor": 0
      },
      "text/plain": [
       "chain 1 |          | 00:00 Status"
      ]
     },
     "metadata": {},
     "output_type": "display_data"
    },
    {
     "data": {
      "application/vnd.jupyter.widget-view+json": {
       "model_id": "e398cc596f154f8aa23533226d1ad888",
       "version_major": 2,
       "version_minor": 0
      },
      "text/plain": [
       "chain 2 |          | 00:00 Status"
      ]
     },
     "metadata": {},
     "output_type": "display_data"
    },
    {
     "data": {
      "application/vnd.jupyter.widget-view+json": {
       "model_id": "b034dc80621b4d15b3eb86194109e91f",
       "version_major": 2,
       "version_minor": 0
      },
      "text/plain": [
       "chain 3 |          | 00:00 Status"
      ]
     },
     "metadata": {},
     "output_type": "display_data"
    },
    {
     "data": {
      "application/vnd.jupyter.widget-view+json": {
       "model_id": "f2fbd03ae00942aabb71c625f1894cf0",
       "version_major": 2,
       "version_minor": 0
      },
      "text/plain": [
       "chain 4 |          | 00:00 Status"
      ]
     },
     "metadata": {},
     "output_type": "display_data"
    },
    {
     "name": "stdout",
     "output_type": "stream",
     "text": [
      "                                                                                                                                                                                                                                                                                                                                "
     ]
    },
    {
     "name": "stderr",
     "output_type": "stream",
     "text": [
      "INFO:cmdstanpy:CmdStan done processing.\n"
     ]
    },
    {
     "name": "stdout",
     "output_type": "stream",
     "text": [
      "\n"
     ]
    }
   ],
   "source": [
    "model_3 = CmdStanModel(stan_file=\"Data\\code_3.stan\")\n",
    "model_4 = CmdStanModel(stan_file=\"Data\\code_4.stan\")\n",
    "\n",
    "data_3 = {'N': N, 'y': y_1[random.randint(0,len(y_1)-1)]}\n",
    "data_4 = {'N': N, 'y': y_2[random.randint(0,len(y_2)-1)]}\n",
    "\n",
    "samples_3 = model_3.sample(data_3)\n",
    "samples_4 = model_4.sample(data_4)"
   ]
  },
  {
   "cell_type": "code",
   "execution_count": 4,
   "metadata": {},
   "outputs": [
    {
     "name": "stderr",
     "output_type": "stream",
     "text": [
      "C:\\Users\\solar\\AppData\\Local\\Programs\\Python\\Python310\\lib\\site-packages\\arviz\\stats\\stats.py:811: UserWarning: Estimated shape parameter of Pareto distribution is greater than 0.7 for one or more samples. You should consider using a more robust model, this is because importance sampling is less likely to work well if the marginal posterior and LOO posterior are very different. This is more likely to happen with a non-robust model and highly influential observations.\n",
      "  warnings.warn(\n"
     ]
    },
    {
     "data": {
      "text/plain": [
       "<AxesSubplot:xlabel='Log'>"
      ]
     },
     "execution_count": 4,
     "metadata": {},
     "output_type": "execute_result"
    },
    {
     "data": {
      "image/png": "[encoded data removed]",
      "text/plain": [
       "<Figure size 1440x432 with 1 Axes>"
      ]
     },
     "metadata": {
      "needs_background": "light"
     },
     "output_type": "display_data"
    }
   ],
   "source": [
    "compare_dict = {\"Model 3\": samples_3, \"Model 4\": samples_4}\n",
    "comparison = az.compare(compare_dict, ic='loo')\n",
    "az.plot_compare(comparison, figsize=(20,6))"
   ]
  },
  {
   "cell_type": "code",
   "execution_count": 5,
   "metadata": {},
   "outputs": [
    {
     "name": "stderr",
     "output_type": "stream",
     "text": [
      "C:\\Users\\solar\\AppData\\Local\\Programs\\Python\\Python310\\lib\\site-packages\\arviz\\stats\\stats.py:1635: UserWarning: For one or more samples the posterior variance of the log predictive densities exceeds 0.4. This could be indication of WAIC starting to fail. \n",
      "See http://arxiv.org/abs/1507.04544 for details\n",
      "  warnings.warn(\n"
     ]
    },
    {
     "data": {
      "text/plain": [
       "<AxesSubplot:xlabel='Log'>"
      ]
     },
     "execution_count": 5,
     "metadata": {},
     "output_type": "execute_result"
    },
    {
     "data": {
      "image/png": "[encoded data removed]",
      "text/plain": [
       "<Figure size 1440x432 with 1 Axes>"
      ]
     },
     "metadata": {
      "needs_background": "light"
     },
     "output_type": "display_data"
    }
   ],
   "source": [
    "compare_dict = {\"Model 3\": samples_3, \"Model 4\": samples_4}\n",
    "comparison = az.compare(compare_dict, ic='waic')\n",
    "az.plot_compare(comparison, figsize=(20,6))"
   ]
  },
  {
   "cell_type": "markdown",
   "metadata": {},
   "source": [
    "<b>Excercise 3</b>"
   ]
  },
  {
   "cell_type": "code",
   "execution_count": 6,
   "metadata": {},
   "outputs": [
    {
     "name": "stderr",
     "output_type": "stream",
     "text": [
      "INFO:cmdstanpy:found newer exe file, not recompiling\n"
     ]
    }
   ],
   "source": [
    "model_5 = CmdStanModel(stan_file=\"Data\\code_5.stan\")"
   ]
  },
  {
   "cell_type": "code",
   "execution_count": 28,
   "metadata": {},
   "outputs": [
    {
     "name": "stderr",
     "output_type": "stream",
     "text": [
      "INFO:cmdstanpy:CmdStan start processing\n"
     ]
    },
    {
     "data": {
      "application/vnd.jupyter.widget-view+json": {
       "model_id": "4d71cb66af4743f087a26662a5d6e233",
       "version_major": 2,
       "version_minor": 0
      },
      "text/plain": [
       "chain 1 |          | 00:00 Status"
      ]
     },
     "metadata": {},
     "output_type": "display_data"
    },
    {
     "data": {
      "application/vnd.jupyter.widget-view+json": {
       "model_id": "da686abd18d1466bb00b51763e1489d4",
       "version_major": 2,
       "version_minor": 0
      },
      "text/plain": [
       "chain 2 |          | 00:00 Status"
      ]
     },
     "metadata": {},
     "output_type": "display_data"
    },
    {
     "data": {
      "application/vnd.jupyter.widget-view+json": {
       "model_id": "95ef1aba02fe4d14a25aa6c28f031029",
       "version_major": 2,
       "version_minor": 0
      },
      "text/plain": [
       "chain 3 |          | 00:00 Status"
      ]
     },
     "metadata": {},
     "output_type": "display_data"
    },
    {
     "data": {
      "application/vnd.jupyter.widget-view+json": {
       "model_id": "a861b2977f694917a7efdf77c760579a",
       "version_major": 2,
       "version_minor": 0
      },
      "text/plain": [
       "chain 4 |          | 00:00 Status"
      ]
     },
     "metadata": {},
     "output_type": "display_data"
    },
    {
     "name": "stdout",
     "output_type": "stream",
     "text": [
      "                                                                                                                                                                                                                                                                                                                                "
     ]
    },
    {
     "name": "stderr",
     "output_type": "stream",
     "text": [
      "INFO:cmdstanpy:CmdStan done processing.\n"
     ]
    },
    {
     "name": "stdout",
     "output_type": "stream",
     "text": [
      "\n"
     ]
    },
    {
     "name": "stderr",
     "output_type": "stream",
     "text": [
      "INFO:cmdstanpy:CmdStan start processing\n"
     ]
    },
    {
     "data": {
      "application/vnd.jupyter.widget-view+json": {
       "model_id": "26f5b527ceff4e94bed8f885ef4d3326",
       "version_major": 2,
       "version_minor": 0
      },
      "text/plain": [
       "chain 1 |          | 00:00 Status"
      ]
     },
     "metadata": {},
     "output_type": "display_data"
    },
    {
     "data": {
      "application/vnd.jupyter.widget-view+json": {
       "model_id": "e47ff6805940440e83ee7f4dfced5dc9",
       "version_major": 2,
       "version_minor": 0
      },
      "text/plain": [
       "chain 2 |          | 00:00 Status"
      ]
     },
     "metadata": {},
     "output_type": "display_data"
    },
    {
     "data": {
      "application/vnd.jupyter.widget-view+json": {
       "model_id": "335d4c9d70eb4b39995be48fe2b6d6c5",
       "version_major": 2,
       "version_minor": 0
      },
      "text/plain": [
       "chain 3 |          | 00:00 Status"
      ]
     },
     "metadata": {},
     "output_type": "display_data"
    },
    {
     "data": {
      "application/vnd.jupyter.widget-view+json": {
       "model_id": "c77463b4fa114567a011f94ad967817b",
       "version_major": 2,
       "version_minor": 0
      },
      "text/plain": [
       "chain 4 |          | 00:00 Status"
      ]
     },
     "metadata": {},
     "output_type": "display_data"
    },
    {
     "name": "stdout",
     "output_type": "stream",
     "text": [
      "                                                                                                                                                                                                                                                                                                                                "
     ]
    },
    {
     "name": "stderr",
     "output_type": "stream",
     "text": [
      "INFO:cmdstanpy:CmdStan done processing.\n"
     ]
    },
    {
     "name": "stdout",
     "output_type": "stream",
     "text": [
      "\n"
     ]
    },
    {
     "name": "stderr",
     "output_type": "stream",
     "text": [
      "INFO:cmdstanpy:CmdStan start processing\n"
     ]
    },
    {
     "data": {
      "application/vnd.jupyter.widget-view+json": {
       "model_id": "91c084b79f6d476088274d9a203c1284",
       "version_major": 2,
       "version_minor": 0
      },
      "text/plain": [
       "chain 1 |          | 00:00 Status"
      ]
     },
     "metadata": {},
     "output_type": "display_data"
    },
    {
     "data": {
      "application/vnd.jupyter.widget-view+json": {
       "model_id": "e763c223adfd4d7f85f38e2933f26fb3",
       "version_major": 2,
       "version_minor": 0
      },
      "text/plain": [
       "chain 2 |          | 00:00 Status"
      ]
     },
     "metadata": {},
     "output_type": "display_data"
    },
    {
     "data": {
      "application/vnd.jupyter.widget-view+json": {
       "model_id": "c492ba9badf34c4a8715203e37c88aad",
       "version_major": 2,
       "version_minor": 0
      },
      "text/plain": [
       "chain 3 |          | 00:00 Status"
      ]
     },
     "metadata": {},
     "output_type": "display_data"
    },
    {
     "data": {
      "application/vnd.jupyter.widget-view+json": {
       "model_id": "cfc24e8a7d0e453193c2e43076c6b3e6",
       "version_major": 2,
       "version_minor": 0
      },
      "text/plain": [
       "chain 4 |          | 00:00 Status"
      ]
     },
     "metadata": {},
     "output_type": "display_data"
    },
    {
     "name": "stdout",
     "output_type": "stream",
     "text": [
      "                                                                                                                                                                                                                                                                                                                                "
     ]
    },
    {
     "name": "stderr",
     "output_type": "stream",
     "text": [
      "INFO:cmdstanpy:CmdStan done processing.\n"
     ]
    },
    {
     "name": "stdout",
     "output_type": "stream",
     "text": [
      "\n"
     ]
    },
    {
     "name": "stderr",
     "output_type": "stream",
     "text": [
      "C:\\Users\\solar\\AppData\\Local\\Programs\\Python\\Python310\\lib\\site-packages\\arviz\\stats\\stats.py:811: UserWarning: Estimated shape parameter of Pareto distribution is greater than 0.7 for one or more samples. You should consider using a more robust model, this is because importance sampling is less likely to work well if the marginal posterior and LOO posterior are very different. This is more likely to happen with a non-robust model and highly influential observations.\n",
      "  warnings.warn(\n",
      "C:\\Users\\solar\\AppData\\Local\\Programs\\Python\\Python310\\lib\\site-packages\\arviz\\stats\\stats.py:811: UserWarning: Estimated shape parameter of Pareto distribution is greater than 0.7 for one or more samples. You should consider using a more robust model, this is because importance sampling is less likely to work well if the marginal posterior and LOO posterior are very different. This is more likely to happen with a non-robust model and highly influential observations.\n",
      "  warnings.warn(\n",
      "C:\\Users\\solar\\AppData\\Local\\Programs\\Python\\Python310\\lib\\site-packages\\arviz\\stats\\stats.py:811: UserWarning: Estimated shape parameter of Pareto distribution is greater than 0.7 for one or more samples. You should consider using a more robust model, this is because importance sampling is less likely to work well if the marginal posterior and LOO posterior are very different. This is more likely to happen with a non-robust model and highly influential observations.\n",
      "  warnings.warn(\n"
     ]
    },
    {
     "data": {
      "text/plain": [
       "<AxesSubplot:xlabel='Log'>"
      ]
     },
     "execution_count": 28,
     "metadata": {},
     "output_type": "execute_result"
    },
    {
     "data": {
      "image/png": "[encoded data removed]",
      "text/plain": [
       "<Figure size 1440x432 with 1 Axes>"
      ]
     },
     "metadata": {
      "needs_background": "light"
     },
     "output_type": "display_data"
    }
   ],
   "source": [
    "r = random.randint(0,len(y_1)-1)\n",
    "data_5 = {'N': N, 'y': y_1[r], 'K': 1, 'X': np.array(y_1[r]).reshape(1400,1)}\n",
    "samples_5_1 = model_5.sample(data_5)\n",
    "\n",
    "r = random.randint(0,len(y_1)-1)\n",
    "data_5 = {'N': N, 'y': y_1[r], 'K': 2, 'X': np.array([y_1[r], y_1[r+1]]).reshape(1400,2)}\n",
    "samples_5_2 = model_5.sample(data_5)\n",
    "\n",
    "r = random.randint(0,len(y_1)-1)\n",
    "data_5 = {'N': N, 'y': y_1[r], 'K': 3, 'X': np.array([y_1[r-1], y_1[r], y_1[r+1]]).reshape(1400,3)}\n",
    "samples_5_3 = model_5.sample(data_5)\n",
    "\n",
    "compare_dict = {\"1 predictor\": samples_5_1, \"2 predictors\": samples_5_2, '3 predictors': samples_5_3}\n",
    "comparison = az.compare(compare_dict)\n",
    "az.plot_compare(comparison, figsize=(20,6))"
   ]
  },
  {
   "cell_type": "code",
   "execution_count": 21,
   "metadata": {},
   "outputs": [
    {
     "name": "stdout",
     "output_type": "stream",
     "text": [
      "[-11.   -10.96 -10.92 -10.88 -10.84 -10.8  -10.76 -10.72 -10.68 -10.64\n",
      " -10.6  -10.56 -10.52 -10.48 -10.44 -10.4  -10.36 -10.32 -10.28 -10.24\n",
      " -10.2  -10.16 -10.12 -10.08 -10.04 -10.    -9.96  -9.92  -9.88  -9.84\n",
      "  -9.8   -9.76  -9.72  -9.68  -9.64  -9.6   -9.56  -9.52  -9.48  -9.44\n",
      "  -9.4   -9.36  -9.32  -9.28  -9.24  -9.2   -9.16  -9.12  -9.08  -9.04\n",
      "  -9.    -8.96  -8.92  -8.88  -8.84  -8.8   -8.76  -8.72  -8.68  -8.64\n",
      "  -8.6   -8.56  -8.52  -8.48  -8.44  -8.4   -8.36  -8.32  -8.28  -8.24\n",
      "  -8.2   -8.16  -8.12  -8.08  -8.04  -8.    -7.96  -7.92  -7.88  -7.84\n",
      "  -7.8   -7.76  -7.72  -7.68  -7.64  -7.6   -7.56  -7.52  -7.48  -7.44\n",
      "  -7.4   -7.36  -7.32  -7.28  -7.24  -7.2   -7.16  -7.12  -7.08  -7.04\n",
      "  -7.    -6.96  -6.92  -6.88  -6.84  -6.8   -6.76  -6.72  -6.68  -6.64\n",
      "  -6.6   -6.56  -6.52  -6.48  -6.44  -6.4   -6.36  -6.32  -6.28  -6.24\n",
      "  -6.2   -6.16  -6.12  -6.08  -6.04  -6.    -5.96  -5.92  -5.88  -5.84\n",
      "  -5.8   -5.76  -5.72  -5.68  -5.64  -5.6   -5.56  -5.52  -5.48  -5.44\n",
      "  -5.4   -5.36  -5.32  -5.28  -5.24  -5.2   -5.16  -5.12  -5.08  -5.04\n",
      "  -5.    -4.96  -4.92  -4.88  -4.84  -4.8   -4.76  -4.72  -4.68  -4.64\n",
      "  -4.6   -4.56  -4.52  -4.48  -4.44  -4.4   -4.36  -4.32  -4.28  -4.24\n",
      "  -4.2   -4.16  -4.12  -4.08  -4.04  -4.    -3.96  -3.92  -3.88  -3.84\n",
      "  -3.8   -3.76  -3.72  -3.68  -3.64  -3.6   -3.56  -3.52  -3.48  -3.44\n",
      "  -3.4   -3.36  -3.32  -3.28  -3.24  -3.2   -3.16  -3.12  -3.08  -3.04\n",
      "  -3.    -2.96  -2.92  -2.88  -2.84  -2.8   -2.76  -2.72  -2.68  -2.64\n",
      "  -2.6   -2.56  -2.52  -2.48  -2.44  -2.4   -2.36  -2.32  -2.28  -2.24\n",
      "  -2.2   -2.16  -2.12  -2.08  -2.04  -2.    -1.96  -1.92  -1.88  -1.84\n",
      "  -1.8   -1.76  -1.72  -1.68  -1.64  -1.6   -1.56  -1.52  -1.48  -1.44\n",
      "  -1.4   -1.36  -1.32  -1.28  -1.24  -1.2   -1.16  -1.12  -1.08  -1.04\n",
      "  -1.    -0.96  -0.92  -0.88  -0.84  -0.8   -0.76  -0.72  -0.68  -0.64\n",
      "  -0.6   -0.56  -0.52  -0.48  -0.44  -0.4   -0.36  -0.32  -0.28  -0.24\n",
      "  -0.2   -0.16  -0.12  -0.08  -0.04   0.     0.04   0.08   0.12   0.16\n",
      "   0.2    0.24   0.28   0.32   0.36   0.4    0.44   0.48   0.52   0.56\n",
      "   0.6    0.64   0.68   0.72   0.76   0.8    0.84   0.88   0.92   0.96\n",
      "   1.     1.04   1.08   1.12   1.16   1.2    1.24   1.28   1.32   1.36\n",
      "   1.4    1.44   1.48   1.52   1.56   1.6    1.64   1.68   1.72   1.76\n",
      "   1.8    1.84   1.88   1.92   1.96   2.     2.04   2.08   2.12   2.16\n",
      "   2.2    2.24   2.28   2.32   2.36   2.4    2.44   2.48   2.52   2.56\n",
      "   2.6    2.64   2.68   2.72   2.76   2.8    2.84   2.88   2.92   2.96\n",
      "   3.     3.04   3.08   3.12   3.16   3.2    3.24   3.28   3.32   3.36\n",
      "   3.4    3.44   3.48   3.52   3.56   3.6    3.64   3.68   3.72   3.76\n",
      "   3.8    3.84   3.88   3.92   3.96   4.     4.04   4.08   4.12   4.16\n",
      "   4.2    4.24   4.28   4.32   4.36   4.4    4.44   4.48   4.52   4.56\n",
      "   4.6    4.64   4.68   4.72   4.76   4.8    4.84   4.88   4.92   4.96\n",
      "   5.     5.04   5.08   5.12   5.16   5.2    5.24   5.28   5.32   5.36\n",
      "   5.4    5.44   5.48   5.52   5.56   5.6    5.64   5.68   5.72   5.76\n",
      "   5.8    5.84   5.88   5.92   5.96   6.     6.04   6.08   6.12   6.16\n",
      "   6.2    6.24   6.28   6.32   6.36   6.4    6.44   6.48   6.52   6.56\n",
      "   6.6    6.64   6.68   6.72   6.76   6.8    6.84   6.88   6.92   6.96\n",
      "   7.     7.04   7.08   7.12   7.16   7.2    7.24   7.28   7.32   7.36\n",
      "   7.4    7.44   7.48   7.52   7.56   7.6    7.64   7.68   7.72   7.76\n",
      "   7.8    7.84   7.88   7.92   7.96   8.     8.04   8.08   8.12   8.16\n",
      "   8.2    8.24   8.28   8.32   8.36   8.4    8.44   8.48   8.52   8.56\n",
      "   8.6    8.64   8.68   8.72   8.76   8.8    8.84   8.88   8.92   8.96\n",
      "   9.     9.04   9.08   9.12   9.16   9.2    9.24   9.28   9.32   9.36\n",
      "   9.4    9.44   9.48   9.52   9.56   9.6    9.64   9.68   9.72   9.76\n",
      "   9.8    9.84   9.88   9.92   9.96  10.    10.04  10.08  10.12  10.16\n",
      "  10.2   10.24  10.28  10.32  10.36  10.4   10.44  10.48  10.52  10.56\n",
      "  10.6   10.64  10.68  10.72  10.76  10.8   10.84  10.88  10.92  10.96\n",
      "  11.  ]\n"
     ]
    }
   ],
   "source": []
  }
 ],
 "metadata": {
  "kernelspec": {
   "display_name": "Python 3 (ipykernel)",
   "language": "python",
   "name": "python3"
  },
  "language_info": {
   "codemirror_mode": {
    "name": "ipython",
    "version": 3
   },
   "file_extension": ".py",
   "mimetype": "text/x-python",
   "name": "python",
   "nbconvert_exporter": "python",
   "pygments_lexer": "ipython3",
   "version": "3.10.2"
  }
 },
 "nbformat": 4,
 "nbformat_minor": 4
}
